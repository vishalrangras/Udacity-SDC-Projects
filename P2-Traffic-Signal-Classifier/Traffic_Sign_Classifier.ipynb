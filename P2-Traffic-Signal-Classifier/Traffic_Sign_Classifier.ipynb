{
 "cells": [
  {
   "cell_type": "markdown",
   "metadata": {},
   "source": [
    "# Self-Driving Car Engineer Nanodegree\n",
    "\n",
    "## Deep Learning\n",
    "\n",
    "## Project: Build a Traffic Sign Recognition Classifier\n",
    "\n",
    "In this notebook, a template is provided for you to implement your functionality in stages, which is required to successfully complete this project. If additional code is required that cannot be included in the notebook, be sure that the Python code is successfully imported and included in your submission if necessary. \n",
    "\n",
    "> **Note**: Once you have completed all of the code implementations, you need to finalize your work by exporting the iPython Notebook as an HTML document. Before exporting the notebook to html, all of the code cells need to have been run so that reviewers can see the final implementation and output. You can then export the notebook by using the menu above and navigating to  \\n\",\n",
    "    \"**File -> Download as -> HTML (.html)**. Include the finished document along with this notebook as your submission. \n",
    "\n",
    "In addition to implementing code, there is a writeup to complete. The writeup should be completed in a separate file, which can be either a markdown file or a pdf document. There is a [write up template](https://github.com/udacity/CarND-Traffic-Sign-Classifier-Project/blob/master/writeup_template.md) that can be used to guide the writing process. Completing the code template and writeup template will cover all of the [rubric points](https://review.udacity.com/#!/rubrics/481/view) for this project.\n",
    "\n",
    "The [rubric](https://review.udacity.com/#!/rubrics/481/view) contains \"Stand Out Suggestions\" for enhancing the project beyond the minimum requirements. The stand out suggestions are optional. If you decide to pursue the \"stand out suggestions\", you can include the code in this Ipython notebook and also discuss the results in the writeup file.\n",
    "\n",
    "\n",
    ">**Note:** Code and Markdown cells can be executed using the **Shift + Enter** keyboard shortcut. In addition, Markdown cells can be edited by typically double-clicking the cell to enter edit mode."
   ]
  },
  {
   "cell_type": "markdown",
   "metadata": {},
   "source": [
    "---\n",
    "## Step 0: Load The Data"
   ]
  },
  {
   "cell_type": "code",
   "execution_count": 1,
   "metadata": {
    "collapsed": false
   },
   "outputs": [],
   "source": [
    "# Load pickled data\n",
    "import pickle\n",
    "\n",
    "# TODO: Fill this in based on where you saved the training and testing data\n",
    "\n",
    "training_file = 'traffic-signs-data/train.p'\n",
    "validation_file= 'traffic-signs-data/valid.p'\n",
    "testing_file = 'traffic-signs-data/test.p'\n",
    "\n",
    "with open(training_file, mode='rb') as f:\n",
    "    train = pickle.load(f)\n",
    "with open(validation_file, mode='rb') as f:\n",
    "    valid = pickle.load(f)\n",
    "with open(testing_file, mode='rb') as f:\n",
    "    test = pickle.load(f)\n",
    "    \n",
    "X_train, y_train = train['features'], train['labels']\n",
    "#X_valid, y_valid = valid['features'], valid['labels']\n",
    "X_test, y_test = test['features'], test['labels']"
   ]
  },
  {
   "cell_type": "markdown",
   "metadata": {},
   "source": [
    "---\n",
    "\n",
    "## Step 1: Dataset Summary & Exploration\n",
    "\n",
    "The pickled data is a dictionary with 4 key/value pairs:\n",
    "\n",
    "- `'features'` is a 4D array containing raw pixel data of the traffic sign images, (num examples, width, height, channels).\n",
    "- `'labels'` is a 1D array containing the label/class id of the traffic sign. The file `signnames.csv` contains id -> name mappings for each id.\n",
    "- `'sizes'` is a list containing tuples, (width, height) representing the original width and height the image.\n",
    "- `'coords'` is a list containing tuples, (x1, y1, x2, y2) representing coordinates of a bounding box around the sign in the image. **THESE COORDINATES ASSUME THE ORIGINAL IMAGE. THE PICKLED DATA CONTAINS RESIZED VERSIONS (32 by 32) OF THESE IMAGES**\n",
    "\n",
    "Complete the basic data summary below. Use python, numpy and/or pandas methods to calculate the data summary rather than hard coding the results. For example, the [pandas shape method](http://pandas.pydata.org/pandas-docs/stable/generated/pandas.DataFrame.shape.html) might be useful for calculating some of the summary results. "
   ]
  },
  {
   "cell_type": "markdown",
   "metadata": {},
   "source": [
    "### Provide a Basic Summary of the Data Set Using Python, Numpy and/or Pandas"
   ]
  },
  {
   "cell_type": "code",
   "execution_count": 3,
   "metadata": {
    "collapsed": false
   },
   "outputs": [
    {
     "name": "stdout",
     "output_type": "stream",
     "text": [
      "X_train shape is: (34799, 32, 32, 3) y_train shape is: 34799\n",
      "X_test shape is: (12630, 32, 32, 3) y_train shape is: 12630\n",
      "Number of training examples = 34799\n",
      "Number of testing examples = 12630\n",
      "Image data shape = (32, 32, 3)\n",
      "Number of classes = 43\n"
     ]
    }
   ],
   "source": [
    "### Replace each question mark with the appropriate value. \n",
    "### Use python, pandas or numpy methods rather than hard coding the results\n",
    "import numpy as np\n",
    "\n",
    "print (\"X_train shape is:\",X_train.shape,\"y_train shape is:\",y_train.shape[0])\n",
    "#print (\"X_valid shape is:\",X_valid.shape,\"y_valid shape is:\",y_valid.shape[0])\n",
    "print (\"X_test shape is:\",X_test.shape,\"y_train shape is:\",y_test.shape[0])\n",
    "\n",
    "# TODO: Number of training examples\n",
    "n_train = len(X_train)\n",
    "\n",
    "# TODO: Number of testing examples.\n",
    "n_test = len(X_test)\n",
    "\n",
    "# TODO: What's the shape of an traffic sign image?\n",
    "image_shape = X_train[0].shape\n",
    "\n",
    "# TODO: How many unique classes/labels there are in the dataset.\n",
    "n_classes = np.unique(y_train).shape[0]\n",
    "\n",
    "print(\"Number of training examples =\", n_train)\n",
    "print(\"Number of testing examples =\", n_test)\n",
    "print(\"Image data shape =\", image_shape)\n",
    "print(\"Number of classes =\", n_classes)"
   ]
  },
  {
   "cell_type": "markdown",
   "metadata": {},
   "source": [
    "### Include an exploratory visualization of the dataset"
   ]
  },
  {
   "cell_type": "markdown",
   "metadata": {},
   "source": [
    "Visualize the German Traffic Signs Dataset using the pickled file(s). This is open ended, suggestions include: plotting traffic sign images, plotting the count of each sign, etc.\n",
    "\n",
    "The [Matplotlib](http://matplotlib.org/) [examples](http://matplotlib.org/examples/index.html) and [gallery](http://matplotlib.org/gallery.html) pages are a great resource for doing visualizations in Python.\n",
    "\n",
    "**NOTE:** It's recommended you start with something simple first. If you wish to do more, come back to it after you've completed the rest of the sections."
   ]
  },
  {
   "cell_type": "code",
   "execution_count": 4,
   "metadata": {
    "collapsed": false
   },
   "outputs": [
    {
     "name": "stdout",
     "output_type": "stream",
     "text": [
      "    ClassId                                           SignName\n",
      "0         0                               Speed limit (20km/h)\n",
      "1         1                               Speed limit (30km/h)\n",
      "2         2                               Speed limit (50km/h)\n",
      "3         3                               Speed limit (60km/h)\n",
      "4         4                               Speed limit (70km/h)\n",
      "5         5                               Speed limit (80km/h)\n",
      "6         6                        End of speed limit (80km/h)\n",
      "7         7                              Speed limit (100km/h)\n",
      "8         8                              Speed limit (120km/h)\n",
      "9         9                                         No passing\n",
      "10       10       No passing for vehicles over 3.5 metric tons\n",
      "11       11              Right-of-way at the next intersection\n",
      "12       12                                      Priority road\n",
      "13       13                                              Yield\n",
      "14       14                                               Stop\n",
      "15       15                                        No vehicles\n",
      "16       16           Vehicles over 3.5 metric tons prohibited\n",
      "17       17                                           No entry\n",
      "18       18                                    General caution\n",
      "19       19                        Dangerous curve to the left\n",
      "20       20                       Dangerous curve to the right\n",
      "21       21                                       Double curve\n",
      "22       22                                         Bumpy road\n",
      "23       23                                      Slippery road\n",
      "24       24                          Road narrows on the right\n",
      "25       25                                          Road work\n",
      "26       26                                    Traffic signals\n",
      "27       27                                        Pedestrians\n",
      "28       28                                  Children crossing\n",
      "29       29                                  Bicycles crossing\n",
      "30       30                                 Beware of ice/snow\n",
      "31       31                              Wild animals crossing\n",
      "32       32                End of all speed and passing limits\n",
      "33       33                                   Turn right ahead\n",
      "34       34                                    Turn left ahead\n",
      "35       35                                         Ahead only\n",
      "36       36                               Go straight or right\n",
      "37       37                                Go straight or left\n",
      "38       38                                         Keep right\n",
      "39       39                                          Keep left\n",
      "40       40                               Roundabout mandatory\n",
      "41       41                                  End of no passing\n",
      "42       42  End of no passing by vehicles over 3.5 metric ...\n",
      "\n",
      "The sample image class id is: 3\n",
      "[18020, 2807, 32348, 4065, 27567, 32886, 21141, 19823, 18959, 3947, 30407, 5894, 24598, 3920, 6969]\n"
     ]
    },
    {
     "data": {
      "image/png": "[encoded data removed]",
      "text/plain": [
       "<matplotlib.figure.Figure at 0x7fc596a32b70>"
      ]
     },
     "metadata": {},
     "output_type": "display_data"
    },
    {
     "data": {
      "image/png": "[encoded data removed]",
      "text/plain": [
       "<matplotlib.figure.Figure at 0x7fc5947a9940>"
      ]
     },
     "metadata": {},
     "output_type": "display_data"
    }
   ],
   "source": [
    "### Data exploration visualization code goes here.\n",
    "### Feel free to use as many code cells as needed.\n",
    "import matplotlib.pyplot as plt\n",
    "import random\n",
    "# Visualizations will be shown in the notebook.\n",
    "%matplotlib inline\n",
    "\n",
    "import pandas\n",
    "\n",
    "sign_name = pandas.read_csv(\"signnames.csv\")\n",
    "print(sign_name)\n",
    "\n",
    "#From LeNet Lab - Visualizing data\n",
    "index = random.randint(0, len(X_train))\n",
    "image = X_train[index].squeeze()\n",
    "\n",
    "plt.figure(figsize=(1,1))\n",
    "plt.imshow(image)\n",
    "print()\n",
    "print(\"The sample image class id is:\",y_train[index])\n",
    "\n",
    "#Extra visualization of data using matplotlib examples from internet\n",
    "img_samples = random.sample(range(1,len(X_train)),15)\n",
    "print (img_samples)\n",
    "\n",
    "sample_frame = plt.figure(figsize=(6,6))\n",
    "axes = []\n",
    "for i in range(0, len(img_samples)):\n",
    "    axis = sample_frame.add_subplot(3,5,i+1)\n",
    "    axis.set_xlabel(y_train[img_samples[i]])\n",
    "    plt.xticks(np.array([]))\n",
    "    plt.yticks(np.array([]))\n",
    "    axis.imshow(X_train[img_samples[i]])\n",
    "plt.tight_layout(h_pad=0, w_pad=0)"
   ]
  },
  {
   "cell_type": "markdown",
   "metadata": {},
   "source": [
    "----\n",
    "\n",
    "## Step 2: Design and Test a Model Architecture\n",
    "\n",
    "Design and implement a deep learning model that learns to recognize traffic signs. Train and test your model on the [German Traffic Sign Dataset](http://benchmark.ini.rub.de/?section=gtsrb&subsection=dataset).\n",
    "\n",
    "The LeNet-5 implementation shown in the [classroom](https://classroom.udacity.com/nanodegrees/nd013/parts/fbf77062-5703-404e-b60c-95b78b2f3f9e/modules/6df7ae49-c61c-4bb2-a23e-6527e69209ec/lessons/601ae704-1035-4287-8b11-e2c2716217ad/concepts/d4aca031-508f-4e0b-b493-e7b706120f81) at the end of the CNN lesson is a solid starting point. You'll have to change the number of classes and possibly the preprocessing, but aside from that it's plug and play! \n",
    "\n",
    "With the LeNet-5 solution from the lecture, you should expect a validation set accuracy of about 0.89. To meet specifications, the validation set accuracy will need to be at least 0.93. It is possible to get an even higher accuracy, but 0.93 is the minimum for a successful project submission. \n",
    "\n",
    "There are various aspects to consider when thinking about this problem:\n",
    "\n",
    "- Neural network architecture (is the network over or underfitting?)\n",
    "- Play around preprocessing techniques (normalization, rgb to grayscale, etc)\n",
    "- Number of examples per label (some have more than others).\n",
    "- Generate fake data.\n",
    "\n",
    "Here is an example of a [published baseline model on this problem](http://yann.lecun.com/exdb/publis/pdf/sermanet-ijcnn-11.pdf). It's not required to be familiar with the approach used in the paper but, it's good practice to try to read papers like these."
   ]
  },
  {
   "cell_type": "markdown",
   "metadata": {},
   "source": [
    "### Pre-process the Data Set (normalization, grayscale, etc.)"
   ]
  },
  {
   "cell_type": "markdown",
   "metadata": {},
   "source": [
    "Use the code cell (or multiple code cells, if necessary) to implement the first step of your project."
   ]
  },
  {
   "cell_type": "code",
   "execution_count": 5,
   "metadata": {
    "collapsed": true
   },
   "outputs": [],
   "source": [
    "### Preprocess the data here. Preprocessing steps could include normalization, converting to grayscale, etc.\n",
    "### Feel free to use as many code cells as needed.\n",
    "from sklearn.utils import shuffle\n",
    "from sklearn.model_selection import train_test_split\n",
    "np.random.seed(99)\n",
    "X_train, y_train = shuffle(X_train, y_train, random_state=52)\n",
    "X_train, X_valid, y_train, y_valid = train_test_split(X_train, y_train, test_size=0.2, random_state=52)"
   ]
  },
  {
   "cell_type": "code",
   "execution_count": 6,
   "metadata": {
    "collapsed": false
   },
   "outputs": [
    {
     "name": "stdout",
     "output_type": "stream",
     "text": [
      "(27839, 32, 32, 1)\n"
     ]
    }
   ],
   "source": [
    "'''\n",
    "import cv2\n",
    "def grayscale(data):\n",
    "    data_grayscale = []\n",
    "    for i in range(0, len(data)):\n",
    "        data_grayscale.append(np.array(cv2.cvtColor(data[i],cv2.COLOR_RGB2GRAY)))\n",
    "        #data_grayscale.append(cv2.cvtColor(data[i],cv2.COLOR_RGB2GRAY))\n",
    "    data_grayscale = np.asarray(data_grayscale)\n",
    "    return data_grayscale\n",
    "\n",
    "#X_train_grayscale = grayscale(X_train)\n",
    "#X_valid_grayscale = grayscale(X_valid)\n",
    "#X_test_grayscale = grayscale(X_test)\n",
    "#print(X_train.shape)\n",
    "#print (X_train_grayscale.shape)\n",
    "\n",
    "#plt.figure(figsize=(2,2))\n",
    "#plt.imshow(X_train_grayscale[1038],cmap='Greys_r')\n",
    "#plt.figure(figsize=(2,2))\n",
    "#plt.imshow(X_train[1038])\n",
    "'''\n",
    "\n",
    "def grayscale(data):\n",
    "    return np.sum(data/3, axis=3, keepdims=True)\n",
    "\n",
    "X_train_grayscale = grayscale(X_train)\n",
    "X_valid_grayscale = grayscale(X_valid)\n",
    "X_test_grayscale = grayscale(X_test)\n",
    "\n",
    "print (X_train_grayscale.shape)"
   ]
  },
  {
   "cell_type": "code",
   "execution_count": 9,
   "metadata": {
    "collapsed": false
   },
   "outputs": [
    {
     "data": {
      "text/plain": [
       "<matplotlib.image.AxesImage at 0x7fc588008828>"
      ]
     },
     "execution_count": 9,
     "metadata": {},
     "output_type": "execute_result"
    },
    {
     "data": {
      "image/png": "[encoded data removed]",
      "text/plain": [
       "<matplotlib.figure.Figure at 0x7fc588263b00>"
      ]
     },
     "metadata": {},
     "output_type": "display_data"
    },
    {
     "data": {
      "image/png": "[encoded data removed]",
      "text/plain": [
       "<matplotlib.figure.Figure at 0x7fc57f5372e8>"
      ]
     },
     "metadata": {},
     "output_type": "display_data"
    }
   ],
   "source": [
    "plt.figure(figsize=(2,2))\n",
    "plt.imshow(X_train[21209].squeeze())\n",
    "\n",
    "sample_frame = plt.figure(figsize=(8,8))\n",
    "axes = []\n",
    "axis = sample_frame.add_subplot(1,2,1)\n",
    "plt.xticks(np.array([]))\n",
    "plt.yticks(np.array([]))\n",
    "axis.imshow(X_train[21209].squeeze())\n",
    "\n",
    "axis = sample_frame.add_subplot(1,2,2)\n",
    "plt.xticks(np.array([]))\n",
    "plt.yticks(np.array([]))\n",
    "axis.imshow(X_train_grayscale[21209].squeeze(),cmap='gray')\n"
   ]
  },
  {
   "cell_type": "code",
   "execution_count": 10,
   "metadata": {
    "collapsed": true
   },
   "outputs": [],
   "source": [
    "X_train = X_train_grayscale\n",
    "X_valid = X_valid_grayscale\n",
    "X_test = X_test_grayscale"
   ]
  },
  {
   "cell_type": "markdown",
   "metadata": {},
   "source": [
    "### Model Architecture"
   ]
  },
  {
   "cell_type": "code",
   "execution_count": 11,
   "metadata": {
    "collapsed": true
   },
   "outputs": [],
   "source": [
    "### Define your architecture here.\n",
    "### Feel free to use as many code cells as needed.\n",
    "\n",
    "\n",
    "import tensorflow as tf\n",
    "\n",
    "EPOCHS = 30\n",
    "BATCH_SIZE = 128\n",
    "\n",
    "from tensorflow.contrib.layers import flatten"
   ]
  },
  {
   "cell_type": "markdown",
   "metadata": {},
   "source": [
    "## LeNet Model Architecture along with description for Traffic Signal classifier\n",
    "<figure>\n",
    " <img src=\"notebook_images/LeNet.png\" alt=\"LeNet Model\" />\n",
    " <figcaption>\n",
    " <p></p> \n",
    " <p style=\"text-align: center;\"><b> LeNet Model for Traffic Signal Classifier</b></p> \n",
    " </figcaption>\n",
    "</figure>\n",
    "\n",
    "As it was explained in the Project Module by David, I have modified the LeNet model to accomodate 43 classes of Traffic Signal instead of 10 classes of MNIST data. There are no other significant changes in the following model. Here is the description for various layers of this Model which I have described based on my understanding of LeNet model:\n",
    "\n",
    "### Input\n",
    "The LeNet architecture accepts a 32x32xC image as input, where C is the number of color channels. Since traffic signal images are converted into grayscale during pre-processing of data, C is 1 in this case.\n",
    "\n",
    "### Architecture\n",
    "**Layer 1: Convolutional.** Patch size is 5 x 5. Output depths is 6. Stride is of 1 x 1 with Valid padding. The output shape will be 28x28x6.\n",
    "\n",
    "**Activation.** Relu as an activation.\n",
    "\n",
    "**Pooling.** Used Max-pooling with a stride of 2 and Valid padding. The patch size is also 2 x 2. The output shape will be 14x14x6.\n",
    "\n",
    "**Layer 2: Convolutional.** Patch size of 5 x 5. Stride of 1 x 1 with Valid padding and output depth of 16. The output shape will be 10x10x16.\n",
    "\n",
    "**Activation.** Relu activation function.\n",
    "\n",
    "**Pooling.** Max-pool with stride of 2, valid padding and patch size of 2 x 2. The output shape will be 5x5x16.\n",
    "\n",
    "**Flatten.** Flattend the output shape of the final pooling layer such that it's 1D instead of 3D. Used `tf.contrib.layers.flatten` for this. Output will be 1D array of 5 x 5 x 16 = 400 values.\n",
    "\n",
    "**Layer 3: Fully Connected.** Since we need output of this layer to have 120 outputs, we will provide a weight matrix of 400 (input) x 120 (output). Also, the bias matrix will be of 120 zeros. And then we do a matrix multiplication of Flatten layer with wieght matrix and add the bias matrix to it.\n",
    "\n",
    "**Activation.** Relu activation function.\n",
    "\n",
    "**Layer 4: Fully Connected.** This layer is similar to Layer 3 with only difference that it will yeild 84 outputs.\n",
    "\n",
    "**Activation.** Relu activation.\n",
    "\n",
    "**Layer 5: Fully Connected (Logits).** This layer is the layer which will emit Logits, which then will be hot-encoded and cross-entropy will be calculated for them for optimization of weights during training process. Since we have 43 different classes in our traffic signal data, the output of this fully connected layer should be 43. Hence we choose the weight and bias matrix accordingly.\n",
    "\n",
    "### Output\n",
    "Return the result of the 2nd fully connected layer in form of Logits. This Layer is Layer 5 in the above architecture."
   ]
  },
  {
   "cell_type": "code",
   "execution_count": 12,
   "metadata": {
    "collapsed": true
   },
   "outputs": [],
   "source": [
    "def LeNet(x):    \n",
    "    mu = 0\n",
    "    sigma = 0.1\n",
    "    \n",
    "    #Layer 1: Convolutional. Input = 32x32x1. Output = 28x28x6.\n",
    "    conv1_W = tf.Variable(tf.truncated_normal(shape=(5, 5, 1, 6), mean = mu, stddev = sigma))\n",
    "    conv1_b = tf.Variable(tf.zeros(6))\n",
    "    conv1   = tf.nn.conv2d(x, conv1_W, strides=[1, 1, 1, 1], padding='VALID') + conv1_b\n",
    "\n",
    "    #Activation.\n",
    "    conv1 = tf.nn.relu(conv1)\n",
    "\n",
    "    #Pooling. Input = 28x28x6. Output = 14x14x6.\n",
    "    conv1 = tf.nn.max_pool(conv1, ksize=[1, 2, 2, 1], strides=[1, 2, 2, 1], padding='VALID')\n",
    "\n",
    "    #Layer 2: Convolutional. Output = 10x10x16.\n",
    "    conv2_W = tf.Variable(tf.truncated_normal(shape=(5, 5, 6, 16), mean = mu, stddev = sigma))\n",
    "    conv2_b = tf.Variable(tf.zeros(16))\n",
    "    conv2   = tf.nn.conv2d(conv1, conv2_W, strides=[1, 1, 1, 1], padding='VALID') + conv2_b\n",
    "    \n",
    "    #Activation.\n",
    "    conv2 = tf.nn.relu(conv2)\n",
    "\n",
    "    #Pooling. Input = 10x10x16. Output = 5x5x16.\n",
    "    conv2 = tf.nn.max_pool(conv2, ksize=[1, 2, 2, 1], strides=[1, 2, 2, 1], padding='VALID')\n",
    "\n",
    "    #Flatten. Input = 5x5x16. Output = 400.\n",
    "    fc0   = flatten(conv2)\n",
    "    \n",
    "    #Layer 3: Fully Connected. Input = 400. Output = 120.\n",
    "    fc1_W = tf.Variable(tf.truncated_normal(shape=(400, 120), mean = mu, stddev = sigma))\n",
    "    fc1_b = tf.Variable(tf.zeros(120))\n",
    "    fc1   = tf.matmul(fc0, fc1_W) + fc1_b\n",
    "    \n",
    "    #Activation.\n",
    "    fc1    = tf.nn.relu(fc1)\n",
    "\n",
    "    #Layer 4: Fully Connected. Input = 120. Output = 84.\n",
    "    fc2_W  = tf.Variable(tf.truncated_normal(shape=(120, 84), mean = mu, stddev = sigma))\n",
    "    fc2_b  = tf.Variable(tf.zeros(84))\n",
    "    fc2    = tf.matmul(fc1, fc2_W) + fc2_b\n",
    "    \n",
    "    #Activation.\n",
    "    fc2    = tf.nn.relu(fc2)\n",
    "\n",
    "    #Layer 5: Fully Connected. Input = 84. Output = 10.\n",
    "    fc3_W  = tf.Variable(tf.truncated_normal(shape=(84, 43), mean = mu, stddev = sigma))\n",
    "    fc3_b  = tf.Variable(tf.zeros(43))\n",
    "    logits = tf.matmul(fc2, fc3_W) + fc3_b\n",
    "    \n",
    "    return logits"
   ]
  },
  {
   "cell_type": "markdown",
   "metadata": {},
   "source": [
    "# This is not the part of Project Submission\n",
    "# It is just for my personal experience with the model.\n",
    "## Modified LeNet Model Architecture for Traffic Signal classifier\n",
    "This model is adapted from Sermanet/LeCunn Traffic Sign Classification Paper which is mentioned above in Step 2 description\n",
    "<figure>\n",
    " <img src=\"notebook_images/modifiedLeNet.jpeg\" alt=\"Modified LeNet Model\" />\n",
    " <figcaption>\n",
    " <p></p> \n",
    " <p style=\"text-align: center;\"><b> Modified LeNet Model for Traffic Signal Classifier</b></p> \n",
    " </figcaption>\n",
    "</figure>\n",
    "\n",
    "On the slack channel for Project P2, there was a discussion going on about Modified LeNet model which was specifically designed for GTSRB competition. The architects of this model **Pierre Sermanet and Yann LeCunn** also published a paper **Traffic Sign Recognition with Multi-Scale Convolutional Networs** describing this architecture. As per the description which they mentioned in their paper, this architecture departs from traditional ConvNets by the types of non-linearities used, by the use of connections that skip layers, and by the use of pooling layers with different subsampling ratios for the connections that skip layers and for those that do not. The layers are self-explanatory with the comments provided in the code, so I am not going to describe them here again.\n",
    "\n",
    "**P.S.**: I have used this architecture available from internet as-is without any modifications or contributions from my end. I just wanted to see its application and accuracy on my data-set so. I also am thankful to Jeremy Shannon for helping me on this model.\n",
    "\n",
    "## Note\n",
    "The accuracy of my modified LeNet model is not supposed to be considered for project submission. I have shown it here just as I was exploring it and didn't wanted to remove it from my notebook."
   ]
  },
  {
   "cell_type": "code",
   "execution_count": 13,
   "metadata": {
    "collapsed": true
   },
   "outputs": [],
   "source": [
    "def modified_LeNet(x):    \n",
    "    # Hyperparameters\n",
    "    mu = 0\n",
    "    sigma = 0.1\n",
    "    \n",
    "    # Layer 1: Convolutional. Input = 32x32x1. Output = 28x28x6.\n",
    "    W1 = tf.Variable(tf.truncated_normal(shape=(5, 5, 1, 6), mean = mu, stddev = sigma), name=\"W1\")\n",
    "    x = tf.nn.conv2d(x, W1, strides=[1, 1, 1, 1], padding='VALID')\n",
    "    b1 = tf.Variable(tf.zeros(6), name=\"b1\")\n",
    "    x = tf.nn.bias_add(x, b1)\n",
    "    print(\"layer 1 shape:\",x.get_shape())\n",
    "\n",
    "    # Activation.\n",
    "    x = tf.nn.relu(x)\n",
    "    \n",
    "    # Pooling. Input = 28x28x6. Output = 14x14x6.\n",
    "    x = tf.nn.max_pool(x, ksize=[1, 2, 2, 1], strides=[1, 2, 2, 1], padding='VALID')\n",
    "    layer1 = x\n",
    "    \n",
    "    # Layer 2: Convolutional. Output = 10x10x16.\n",
    "    W2 = tf.Variable(tf.truncated_normal(shape=(5, 5, 6, 16), mean = mu, stddev = sigma), name=\"W2\")\n",
    "    x = tf.nn.conv2d(x, W2, strides=[1, 1, 1, 1], padding='VALID')\n",
    "    b2 = tf.Variable(tf.zeros(16), name=\"b2\")\n",
    "    x = tf.nn.bias_add(x, b2)\n",
    "                     \n",
    "    # Activation.\n",
    "    x = tf.nn.relu(x)\n",
    "\n",
    "    # Pooling. Input = 10x10x16. Output = 5x5x16.\n",
    "    x = tf.nn.max_pool(x, ksize=[1, 2, 2, 1], strides=[1, 2, 2, 1], padding='VALID')\n",
    "    layer2 = x\n",
    "    \n",
    "    # Layer 3: Convolutional. Output = 1x1x400.\n",
    "    W3 = tf.Variable(tf.truncated_normal(shape=(5, 5, 16, 400), mean = mu, stddev = sigma), name=\"W3\")\n",
    "    x = tf.nn.conv2d(x, W3, strides=[1, 1, 1, 1], padding='VALID')\n",
    "    b3 = tf.Variable(tf.zeros(400), name=\"b3\")\n",
    "    x = tf.nn.bias_add(x, b3)\n",
    "                     \n",
    "    # Activation.\n",
    "    x = tf.nn.relu(x)\n",
    "    layer3 = x\n",
    "\n",
    "    # Flatten. Input = 5x5x16. Output = 400.\n",
    "    layer2flat = flatten(layer2)\n",
    "    print(\"layer2flat shape:\",layer2flat.get_shape())\n",
    "    \n",
    "    # Flatten x. Input = 1x1x400. Output = 400.\n",
    "    xflat = flatten(x)\n",
    "    print(\"xflat shape:\",xflat.get_shape())\n",
    "    \n",
    "    # Concat layer2flat and x. Input = 400 + 400. Output = 800\n",
    "    x = tf.concat_v2([xflat, layer2flat], 1)\n",
    "    print(\"x shape:\",x.get_shape())\n",
    "    \n",
    "    # Dropout\n",
    "    x = tf.nn.dropout(x, keep_prob)\n",
    "    \n",
    "    # Layer 4: Fully Connected. Input = 800. Output = 43.\n",
    "    W4 = tf.Variable(tf.truncated_normal(shape=(800, 43), mean = mu, stddev = sigma), name=\"W4\")\n",
    "    b4 = tf.Variable(tf.zeros(43), name=\"b4\")    \n",
    "    logits = tf.add(tf.matmul(x, W4), b4)\n",
    "    \n",
    "    return logits"
   ]
  },
  {
   "cell_type": "code",
   "execution_count": 29,
   "metadata": {
    "collapsed": false
   },
   "outputs": [],
   "source": [
    "tf.reset_default_graph() \n",
    "\n",
    "x = tf.placeholder(tf.float32, (None, 32, 32, 1))\n",
    "y = tf.placeholder(tf.int32, (None))\n",
    "keep_prob = tf.placeholder(tf.float32)\n",
    "one_hot_y = tf.one_hot(y, 43)"
   ]
  },
  {
   "cell_type": "markdown",
   "metadata": {},
   "source": [
    "### Train, Validate and Test the Model"
   ]
  },
  {
   "cell_type": "markdown",
   "metadata": {},
   "source": [
    "A validation set can be used to assess how well the model is performing. A low accuracy on the training and validation\n",
    "sets imply underfitting. A high accuracy on the training set but low accuracy on the validation set implies overfitting."
   ]
  },
  {
   "cell_type": "code",
   "execution_count": 30,
   "metadata": {
    "collapsed": false
   },
   "outputs": [],
   "source": [
    "### Train your model here.\n",
    "### Calculate and report the accuracy on the training and validation set.\n",
    "### Once a final model architecture is selected, \n",
    "### the accuracy on the test set should be calculated and reported as well.\n",
    "### Feel free to use as many code cells as needed.\n",
    "\n",
    "# These parameters are for LeNet model\n",
    "\n",
    "rate = 0.001\n",
    "\n",
    "logits = LeNet(x)\n",
    "cross_entropy = tf.nn.softmax_cross_entropy_with_logits(logits, one_hot_y)\n",
    "loss_operation = tf.reduce_mean(cross_entropy)\n",
    "optimizer = tf.train.AdamOptimizer(learning_rate = rate)\n",
    "training_operation = optimizer.minimize(loss_operation)\n",
    "\n",
    "correct_prediction = tf.equal(tf.argmax(logits, 1), tf.argmax(one_hot_y, 1))\n",
    "accuracy_operation = tf.reduce_mean(tf.cast(correct_prediction, tf.float32))\n",
    "saver = tf.train.Saver()"
   ]
  },
  {
   "cell_type": "code",
   "execution_count": 31,
   "metadata": {
    "collapsed": true
   },
   "outputs": [],
   "source": [
    "#Evaluate function for Lenet Model\n",
    "def evaluate(X_data, y_data):\n",
    "    num_examples = len(X_data)\n",
    "    total_accuracy = 0\n",
    "    sess = tf.get_default_session()\n",
    "    for offset in range(0, num_examples, BATCH_SIZE):\n",
    "        batch_x, batch_y = X_data[offset:offset+BATCH_SIZE], y_data[offset:offset+BATCH_SIZE]\n",
    "        accuracy = sess.run(accuracy_operation, feed_dict={x: batch_x, y: batch_y, keep_prob: 1.0})\n",
    "        total_accuracy += (accuracy * len(batch_x))\n",
    "    return total_accuracy / num_examples"
   ]
  },
  {
   "cell_type": "code",
   "execution_count": 32,
   "metadata": {
    "collapsed": false
   },
   "outputs": [
    {
     "name": "stdout",
     "output_type": "stream",
     "text": [
      "Training on LeNet model...\n",
      "\n",
      "EPOCH 1 ...\n",
      "Validation Accuracy = 0.775\n",
      "\n",
      "EPOCH 2 ...\n",
      "Validation Accuracy = 0.893\n",
      "\n",
      "EPOCH 3 ...\n",
      "Validation Accuracy = 0.927\n",
      "\n",
      "EPOCH 4 ...\n",
      "Validation Accuracy = 0.942\n",
      "\n",
      "EPOCH 5 ...\n",
      "Validation Accuracy = 0.938\n",
      "\n",
      "EPOCH 6 ...\n",
      "Validation Accuracy = 0.953\n",
      "\n",
      "EPOCH 7 ...\n",
      "Validation Accuracy = 0.950\n",
      "\n",
      "EPOCH 8 ...\n",
      "Validation Accuracy = 0.950\n",
      "\n",
      "EPOCH 9 ...\n",
      "Validation Accuracy = 0.963\n",
      "\n",
      "EPOCH 10 ...\n",
      "Validation Accuracy = 0.961\n",
      "\n",
      "EPOCH 11 ...\n",
      "Validation Accuracy = 0.962\n",
      "\n",
      "EPOCH 12 ...\n",
      "Validation Accuracy = 0.956\n",
      "\n",
      "EPOCH 13 ...\n",
      "Validation Accuracy = 0.970\n",
      "\n",
      "EPOCH 14 ...\n",
      "Validation Accuracy = 0.965\n",
      "\n",
      "EPOCH 15 ...\n",
      "Validation Accuracy = 0.963\n",
      "\n",
      "EPOCH 16 ...\n",
      "Validation Accuracy = 0.968\n",
      "\n",
      "EPOCH 17 ...\n",
      "Validation Accuracy = 0.971\n",
      "\n",
      "EPOCH 18 ...\n",
      "Validation Accuracy = 0.971\n",
      "\n",
      "EPOCH 19 ...\n",
      "Validation Accuracy = 0.961\n",
      "\n",
      "EPOCH 20 ...\n",
      "Validation Accuracy = 0.975\n",
      "\n",
      "EPOCH 21 ...\n",
      "Validation Accuracy = 0.965\n",
      "\n",
      "EPOCH 22 ...\n",
      "Validation Accuracy = 0.965\n",
      "\n",
      "EPOCH 23 ...\n",
      "Validation Accuracy = 0.979\n",
      "\n",
      "EPOCH 24 ...\n",
      "Validation Accuracy = 0.973\n",
      "\n",
      "EPOCH 25 ...\n",
      "Validation Accuracy = 0.972\n",
      "\n",
      "EPOCH 26 ...\n",
      "Validation Accuracy = 0.977\n",
      "\n",
      "EPOCH 27 ...\n",
      "Validation Accuracy = 0.978\n",
      "\n",
      "EPOCH 28 ...\n",
      "Validation Accuracy = 0.976\n",
      "\n",
      "EPOCH 29 ...\n",
      "Validation Accuracy = 0.977\n",
      "\n",
      "EPOCH 30 ...\n",
      "Validation Accuracy = 0.969\n",
      "\n",
      "LeNet Model saved\n"
     ]
    }
   ],
   "source": [
    "#This cell trains the Lenet model\n",
    "with tf.Session() as sess:\n",
    "    sess.run(tf.global_variables_initializer())\n",
    "    num_examples = len(X_train)\n",
    "    \n",
    "    print(\"Training on LeNet model...\")\n",
    "    print()\n",
    "    for i in range(EPOCHS):\n",
    "        X_train, y_train = shuffle(X_train, y_train)\n",
    "        for offset in range(0, num_examples, BATCH_SIZE):\n",
    "            end = offset + BATCH_SIZE\n",
    "            batch_x, batch_y = X_train[offset:end], y_train[offset:end]\n",
    "            sess.run(training_operation, feed_dict={x: batch_x, y: batch_y, keep_prob: 0.5})\n",
    "            \n",
    "        validation_accuracy = evaluate(X_valid, y_valid)\n",
    "        print(\"EPOCH {} ...\".format(i+1))\n",
    "        print(\"Validation Accuracy = {:.3f}\".format(validation_accuracy))\n",
    "        print()\n",
    "        \n",
    "    saver.save(sess, './lenet')\n",
    "    print(\"LeNet Model saved\")"
   ]
  },
  {
   "cell_type": "code",
   "execution_count": 33,
   "metadata": {
    "collapsed": false
   },
   "outputs": [
    {
     "name": "stdout",
     "output_type": "stream",
     "text": [
      "Lenet Model restored...\n",
      "Train Accuracy = 0.988\n"
     ]
    }
   ],
   "source": [
    "with tf.Session() as sess:\n",
    "    sess.run(tf.global_variables_initializer())\n",
    "    saver = tf.train.import_meta_graph('./lenet.meta')\n",
    "    saver.restore(sess, \"./lenet\")\n",
    "    print(\"Lenet Model restored...\")\n",
    "    Train_accuracy = evaluate(X_train, y_train)\n",
    "    print(\"Train Accuracy = {:.3f}\".format(Train_accuracy))"
   ]
  },
  {
   "cell_type": "code",
   "execution_count": 34,
   "metadata": {
    "collapsed": false
   },
   "outputs": [
    {
     "name": "stdout",
     "output_type": "stream",
     "text": [
      "Lenet Model restored...\n",
      "Test Accuracy = 0.885\n"
     ]
    }
   ],
   "source": [
    "with tf.Session() as sess:\n",
    "    sess.run(tf.global_variables_initializer())\n",
    "    saver = tf.train.import_meta_graph('./lenet.meta')\n",
    "    saver.restore(sess, \"./lenet\")\n",
    "    print(\"Lenet Model restored...\")\n",
    "    test_accuracy = evaluate(X_test, y_test)\n",
    "    print(\"Test Accuracy = {:.3f}\".format(test_accuracy))"
   ]
  },
  {
   "cell_type": "code",
   "execution_count": 20,
   "metadata": {
    "collapsed": true
   },
   "outputs": [],
   "source": [
    "#Beginning Modified LeNet\n",
    "tf.reset_default_graph() \n",
    "\n",
    "x = tf.placeholder(tf.float32, (None, 32, 32, 1))\n",
    "y = tf.placeholder(tf.int32, (None))\n",
    "keep_prob = tf.placeholder(tf.float32)\n",
    "one_hot_y = tf.one_hot(y, 43)"
   ]
  },
  {
   "cell_type": "code",
   "execution_count": 21,
   "metadata": {
    "collapsed": false
   },
   "outputs": [
    {
     "name": "stdout",
     "output_type": "stream",
     "text": [
      "layer 1 shape: (?, 28, 28, 6)\n",
      "layer2flat shape: (?, 400)\n",
      "xflat shape: (?, 400)\n",
      "x shape: (?, 800)\n"
     ]
    }
   ],
   "source": [
    "# These parameters are for Modified LeNet model\n",
    "\n",
    "rate_2 = 0.007\n",
    "\n",
    "logits_2 = modified_LeNet(x)\n",
    "cross_entropy_2 = tf.nn.softmax_cross_entropy_with_logits(logits_2, one_hot_y)\n",
    "loss_operation_2 = tf.reduce_mean(cross_entropy_2)\n",
    "optimizer_2 = tf.train.AdamOptimizer(learning_rate = rate_2)\n",
    "training_operation_2 = optimizer_2.minimize(loss_operation_2)\n",
    "\n",
    "correct_prediction_2 = tf.equal(tf.argmax(logits_2, 1), tf.argmax(one_hot_y, 1))\n",
    "accuracy_operation_2 = tf.reduce_mean(tf.cast(correct_prediction_2, tf.float32))\n",
    "saver_modified = tf.train.Saver()"
   ]
  },
  {
   "cell_type": "code",
   "execution_count": 22,
   "metadata": {
    "collapsed": true
   },
   "outputs": [],
   "source": [
    "#Evaluate function for Modified Lenet Model\n",
    "def evaluate_2(X_data, y_data):\n",
    "    num_examples = len(X_data)\n",
    "    total_accuracy = 0\n",
    "    sess = tf.get_default_session()\n",
    "    for offset in range(0, num_examples, BATCH_SIZE):\n",
    "        batch_x, batch_y = X_data[offset:offset+BATCH_SIZE], y_data[offset:offset+BATCH_SIZE]\n",
    "        accuracy = sess.run(accuracy_operation_2, feed_dict={x: batch_x, y: batch_y, keep_prob: 1.0})\n",
    "        total_accuracy += (accuracy * len(batch_x))\n",
    "    return total_accuracy / num_examples"
   ]
  },
  {
   "cell_type": "code",
   "execution_count": 23,
   "metadata": {
    "collapsed": false
   },
   "outputs": [
    {
     "name": "stdout",
     "output_type": "stream",
     "text": [
      "Training on Modified LeNet model...\n",
      "\n",
      "EPOCH 1 ...\n",
      "Validation Accuracy = 0.059\n",
      "\n",
      "EPOCH 2 ...\n",
      "Validation Accuracy = 0.056\n",
      "\n",
      "EPOCH 3 ...\n",
      "Validation Accuracy = 0.065\n",
      "\n",
      "EPOCH 4 ...\n",
      "Validation Accuracy = 0.059\n",
      "\n",
      "EPOCH 5 ...\n",
      "Validation Accuracy = 0.059\n",
      "\n",
      "EPOCH 6 ...\n",
      "Validation Accuracy = 0.055\n",
      "\n",
      "EPOCH 7 ...\n",
      "Validation Accuracy = 0.058\n",
      "\n",
      "EPOCH 8 ...\n",
      "Validation Accuracy = 0.058\n",
      "\n",
      "EPOCH 9 ...\n",
      "Validation Accuracy = 0.057\n",
      "\n",
      "EPOCH 10 ...\n",
      "Validation Accuracy = 0.058\n",
      "\n",
      "EPOCH 11 ...\n",
      "Validation Accuracy = 0.059\n",
      "\n",
      "EPOCH 12 ...\n",
      "Validation Accuracy = 0.059\n",
      "\n",
      "EPOCH 13 ...\n",
      "Validation Accuracy = 0.059\n",
      "\n",
      "EPOCH 14 ...\n",
      "Validation Accuracy = 0.059\n",
      "\n",
      "EPOCH 15 ...\n",
      "Validation Accuracy = 0.059\n",
      "\n",
      "EPOCH 16 ...\n",
      "Validation Accuracy = 0.055\n",
      "\n",
      "EPOCH 17 ...\n",
      "Validation Accuracy = 0.059\n",
      "\n",
      "EPOCH 18 ...\n",
      "Validation Accuracy = 0.059\n",
      "\n",
      "EPOCH 19 ...\n",
      "Validation Accuracy = 0.055\n",
      "\n",
      "EPOCH 20 ...\n",
      "Validation Accuracy = 0.059\n",
      "\n",
      "EPOCH 21 ...\n",
      "Validation Accuracy = 0.059\n",
      "\n",
      "EPOCH 22 ...\n",
      "Validation Accuracy = 0.058\n",
      "\n",
      "EPOCH 23 ...\n",
      "Validation Accuracy = 0.059\n",
      "\n",
      "EPOCH 24 ...\n",
      "Validation Accuracy = 0.059\n",
      "\n",
      "EPOCH 25 ...\n",
      "Validation Accuracy = 0.059\n",
      "\n",
      "EPOCH 26 ...\n",
      "Validation Accuracy = 0.059\n",
      "\n",
      "EPOCH 27 ...\n",
      "Validation Accuracy = 0.059\n",
      "\n",
      "EPOCH 28 ...\n",
      "Validation Accuracy = 0.057\n",
      "\n",
      "EPOCH 29 ...\n",
      "Validation Accuracy = 0.059\n",
      "\n",
      "EPOCH 30 ...\n",
      "Validation Accuracy = 0.059\n",
      "\n",
      "Modified LeNet Model saved\n"
     ]
    }
   ],
   "source": [
    "# The modified LeNet Model is trained using code of this cell\n",
    "\n",
    "with tf.Session() as sess:\n",
    "    sess.run(tf.global_variables_initializer())\n",
    "    num_examples = len(X_train)\n",
    "    \n",
    "    print(\"Training on Modified LeNet model...\")\n",
    "    print()\n",
    "    for i in range(EPOCHS):\n",
    "        X_train, y_train = shuffle(X_train, y_train)\n",
    "        for offset in range(0, num_examples, BATCH_SIZE):\n",
    "            end = offset + BATCH_SIZE\n",
    "            batch_x, batch_y = X_train[offset:end], y_train[offset:end]\n",
    "            sess.run(training_operation_2, feed_dict={x: batch_x, y: batch_y, keep_prob: 0.5})\n",
    "            \n",
    "        validation_accuracy = evaluate_2(X_valid, y_valid)\n",
    "        print(\"EPOCH {} ...\".format(i+1))\n",
    "        print(\"Validation Accuracy = {:.3f}\".format(validation_accuracy))\n",
    "        print()\n",
    "        \n",
    "    saver_modified.save(sess, './modified_lenet')\n",
    "    print(\"Modified LeNet Model saved\")"
   ]
  },
  {
   "cell_type": "code",
   "execution_count": 24,
   "metadata": {
    "collapsed": false
   },
   "outputs": [
    {
     "name": "stdout",
     "output_type": "stream",
     "text": [
      "Modified Lenet Model restored...\n",
      "Train Accuracy = 0.058\n"
     ]
    }
   ],
   "source": [
    "with tf.Session() as sess:\n",
    "    sess.run(tf.global_variables_initializer())\n",
    "    saver_modified = tf.train.import_meta_graph('./modified_lenet.meta')\n",
    "    saver_modified.restore(sess, \"./modified_lenet\")\n",
    "    print(\"Modified Lenet Model restored...\")\n",
    "    Train_accuracy = evaluate_2(X_train, y_train)\n",
    "    print(\"Train Accuracy = {:.3f}\".format(Train_accuracy))"
   ]
  },
  {
   "cell_type": "code",
   "execution_count": 25,
   "metadata": {
    "collapsed": false
   },
   "outputs": [
    {
     "name": "stdout",
     "output_type": "stream",
     "text": [
      "Modified Lenet Model restored...\n",
      "Test Accuracy = 0.060\n"
     ]
    }
   ],
   "source": [
    "with tf.Session() as sess:\n",
    "    sess.run(tf.global_variables_initializer())\n",
    "    saver_modified = tf.train.import_meta_graph('./modified_lenet.meta')\n",
    "    saver_modified.restore(sess, \"./modified_lenet\")\n",
    "    print(\"Modified Lenet Model restored...\")\n",
    "    test_accuracy = evaluate_2(X_test, y_test)\n",
    "    print(\"Test Accuracy = {:.3f}\".format(test_accuracy))"
   ]
  },
  {
   "cell_type": "markdown",
   "metadata": {},
   "source": [
    "---\n",
    "\n",
    "## Step 3: Test a Model on New Images\n",
    "\n",
    "To give yourself more insight into how your model is working, download at least five pictures of German traffic signs from the web and use your model to predict the traffic sign type.\n",
    "\n",
    "You may find `signnames.csv` useful as it contains mappings from the class id (integer) to the actual sign name."
   ]
  },
  {
   "cell_type": "markdown",
   "metadata": {},
   "source": [
    "### Load and Output the Images"
   ]
  },
  {
   "cell_type": "code",
   "execution_count": 48,
   "metadata": {
    "collapsed": false
   },
   "outputs": [
    {
     "name": "stdout",
     "output_type": "stream",
     "text": [
      "(10, 32, 32, 3)\n"
     ]
    },
    {
     "data": {
      "image/png": "[encoded data removed]",
      "text/plain": [
       "<matplotlib.figure.Figure at 0x7fc53f9c7fd0>"
      ]
     },
     "metadata": {},
     "output_type": "display_data"
    }
   ],
   "source": [
    "### Load the images and plot them here.\n",
    "### Feel free to use as many code cells as needed.\n",
    "\n",
    "\n",
    "%matplotlib inline\n",
    "import matplotlib.pyplot as plt\n",
    "import matplotlib.image as mpimg\n",
    "import matplotlib\n",
    "import numpy as np\n",
    "import cv2\n",
    "import os\n",
    "    \n",
    "internet_images = []    \n",
    "for filename in os.listdir(\"internet_images/\"):\n",
    "    image = mpimg.imread(os.path.join(\"internet_images\", filename))\n",
    "    image = cv2.resize(image, (32, 32))\n",
    "    internet_images.append(np.array(image))\n",
    "    \n",
    "internet_images = np.asarray(internet_images)\n",
    "print (internet_images.shape)\n",
    "internet_images = grayscale(internet_images)\n",
    "y_internet = [23, 34,  2,  2,  14, 25, 23,  3,  1, 18]\n",
    "y_internet = np.asarray(y_internet)\n",
    "\n",
    "sample_frame_2 = plt.figure(figsize=(6,6))\n",
    "axes = []\n",
    "for i in range(0, len(internet_images)):\n",
    "    axis_2 = sample_frame_2.add_subplot(2,5,i+1)\n",
    "    axis_2.set_xlabel(y_internet[i])\n",
    "    plt.xticks(np.array([]))\n",
    "    plt.yticks(np.array([]))\n",
    "    axis_2.imshow(internet_images[i].squeeze(),cmap='gray')\n",
    "plt.tight_layout(h_pad=0, w_pad=0)"
   ]
  },
  {
   "cell_type": "markdown",
   "metadata": {},
   "source": [
    "### Predict the Sign Type for Each Image"
   ]
  },
  {
   "cell_type": "code",
   "execution_count": 49,
   "metadata": {
    "collapsed": false
   },
   "outputs": [
    {
     "name": "stdout",
     "output_type": "stream",
     "text": [
      "Internet Image Test Accuracy = 0.700\n"
     ]
    }
   ],
   "source": [
    "### Run the predictions here and use the model to output the prediction for each image.\n",
    "### Make sure to pre-process the images with the same pre-processing pipeline used earlier.\n",
    "### Feel free to use as many code cells as needed.\n",
    "with tf.Session() as sess:\n",
    "    sess.run(tf.global_variables_initializer())\n",
    "    saver3 = tf.train.import_meta_graph('./lenet.meta')\n",
    "    saver3.restore(sess, \"./lenet\")\n",
    "    internet_accuracy = evaluate(internet_images, y_internet)\n",
    "    print(\"Internet Image Test Accuracy = {:.3f}\".format(internet_accuracy))"
   ]
  },
  {
   "cell_type": "markdown",
   "metadata": {},
   "source": [
    "### Analyze Performance"
   ]
  },
  {
   "cell_type": "code",
   "execution_count": 52,
   "metadata": {
    "collapsed": false
   },
   "outputs": [
    {
     "name": "stdout",
     "output_type": "stream",
     "text": [
      "[23 34  6  5  5 25 23  3  1 18]\n"
     ]
    }
   ],
   "source": [
    "### Calculate the accuracy for these 5 new images. \n",
    "### For example, if the model predicted 1 out of 5 signs correctly, it's 20% accurate on these new images.\n",
    "Internet_results = []\n",
    "with tf.Session() as sess:\n",
    "    sess.run(tf.global_variables_initializer())\n",
    "    saver3 = tf.train.import_meta_graph('./lenet.meta')\n",
    "    saver3.restore(sess, \"./lenet\")\n",
    "    prediction = tf.argmax(logits, 1)\n",
    "    result = sess.run(prediction, feed_dict={x: internet_images})\n",
    "    Internet_results = result\n",
    "    print(result)"
   ]
  },
  {
   "cell_type": "markdown",
   "metadata": {},
   "source": [
    "### Output Top 5 Softmax Probabilities For Each Image Found on the Web"
   ]
  },
  {
   "cell_type": "markdown",
   "metadata": {},
   "source": [
    "For each of the new images, print out the model's softmax probabilities to show the **certainty** of the model's predictions (limit the output to the top 5 probabilities for each image). [`tf.nn.top_k`](https://www.tensorflow.org/versions/r0.12/api_docs/python/nn.html#top_k) could prove helpful here. \n",
    "\n",
    "The example below demonstrates how tf.nn.top_k can be used to find the top k predictions for each image.\n",
    "\n",
    "`tf.nn.top_k` will return the values and indices (class ids) of the top k predictions. So if k=3, for each sign, it'll return the 3 largest probabilities (out of a possible 43) and the correspoding class ids.\n",
    "\n",
    "Take this numpy array as an example. The values in the array represent predictions. The array contains softmax probabilities for five candidate images with six possible classes. `tk.nn.top_k` is used to choose the three classes with the highest probability:\n",
    "\n",
    "```\n",
    "# (5, 6) array\n",
    "a = np.array([[ 0.24879643,  0.07032244,  0.12641572,  0.34763842,  0.07893497,\n",
    "         0.12789202],\n",
    "       [ 0.28086119,  0.27569815,  0.08594638,  0.0178669 ,  0.18063401,\n",
    "         0.15899337],\n",
    "       [ 0.26076848,  0.23664738,  0.08020603,  0.07001922,  0.1134371 ,\n",
    "         0.23892179],\n",
    "       [ 0.11943333,  0.29198961,  0.02605103,  0.26234032,  0.1351348 ,\n",
    "         0.16505091],\n",
    "       [ 0.09561176,  0.34396535,  0.0643941 ,  0.16240774,  0.24206137,\n",
    "         0.09155967]])\n",
    "```\n",
    "\n",
    "Running it through `sess.run(tf.nn.top_k(tf.constant(a), k=3))` produces:\n",
    "\n",
    "```\n",
    "TopKV2(values=array([[ 0.34763842,  0.24879643,  0.12789202],\n",
    "       [ 0.28086119,  0.27569815,  0.18063401],\n",
    "       [ 0.26076848,  0.23892179,  0.23664738],\n",
    "       [ 0.29198961,  0.26234032,  0.16505091],\n",
    "       [ 0.34396535,  0.24206137,  0.16240774]]), indices=array([[3, 0, 5],\n",
    "       [0, 1, 4],\n",
    "       [0, 5, 1],\n",
    "       [1, 3, 5],\n",
    "       [1, 4, 3]], dtype=int32))\n",
    "```\n",
    "\n",
    "Looking just at the first row we get `[ 0.34763842,  0.24879643,  0.12789202]`, you can confirm these are the 3 largest probabilities in `a`. You'll also notice `[3, 0, 5]` are the corresponding indices."
   ]
  },
  {
   "cell_type": "code",
   "execution_count": 53,
   "metadata": {
    "collapsed": false
   },
   "outputs": [
    {
     "name": "stdout",
     "output_type": "stream",
     "text": [
      "TopKV2(values=array([[  9.93581772e-01,   6.41829474e-03,   6.76633471e-10,\n",
      "          3.59637820e-10,   2.81480755e-10],\n",
      "       [  1.00000000e+00,   7.16200768e-18,   3.33446279e-22,\n",
      "          2.88089731e-22,   1.74074757e-28],\n",
      "       [  6.73241079e-01,   3.26702654e-01,   4.97633046e-05,\n",
      "          6.45885211e-06,   3.22599867e-08],\n",
      "       [  9.99378920e-01,   6.21053216e-04,   5.57456517e-08,\n",
      "          5.06375378e-13,   2.72993366e-14],\n",
      "       [  9.61916804e-01,   2.92374957e-02,   8.52692313e-03,\n",
      "          2.07966077e-04,   1.08677254e-04],\n",
      "       [  1.00000000e+00,   1.82594935e-08,   4.97885594e-18,\n",
      "          8.21528849e-19,   1.44055184e-19],\n",
      "       [  1.00000000e+00,   1.53662277e-10,   4.50899838e-11,\n",
      "          2.33293474e-13,   3.18340664e-14],\n",
      "       [  9.99982357e-01,   1.73019762e-05,   3.19861982e-07,\n",
      "          1.83549076e-09,   1.24146260e-09],\n",
      "       [  1.00000000e+00,   5.04663653e-28,   1.66898324e-30,\n",
      "          0.00000000e+00,   0.00000000e+00],\n",
      "       [  1.00000000e+00,   3.68797606e-35,   5.63334431e-36,\n",
      "          1.44896548e-37,   0.00000000e+00]], dtype=float32), indices=array([[23, 19, 11, 34, 21],\n",
      "       [34, 23, 17, 36, 38],\n",
      "       [ 6, 41,  1,  2,  8],\n",
      "       [ 5,  6, 36,  1,  4],\n",
      "       [ 5, 40,  4, 11,  1],\n",
      "       [25, 31, 23, 37, 17],\n",
      "       [23, 29, 21, 19, 36],\n",
      "       [ 3, 31,  1,  6,  5],\n",
      "       [ 1,  2,  5,  0,  3],\n",
      "       [18, 27, 26, 21,  0]], dtype=int32))\n"
     ]
    }
   ],
   "source": [
    "### Print out the top five softmax probabilities for the predictions on the German traffic sign images found on the web. \n",
    "### Feel free to use as many code cells as needed.\n",
    "softmax = tf.nn.softmax(logits)\n",
    "with tf.Session() as sess:\n",
    "    sess.run(tf.global_variables_initializer())\n",
    "    saver3 = tf.train.import_meta_graph('./lenet.meta')\n",
    "    saver3.restore(sess, \"./lenet\")\n",
    "    probabilities = sess.run(softmax, feed_dict={x: internet_images})\n",
    "    result_top_five = sess.run(tf.nn.top_k(probabilities, k=5))\n",
    "    print (result_top_five)"
   ]
  },
  {
   "cell_type": "markdown",
   "metadata": {},
   "source": [
    "---\n",
    "\n",
    "## Step 4: Visualize the Neural Network's State with Test Images\n",
    "\n",
    " This Section is not required to complete but acts as an additional excersise for understaning the output of a neural network's weights. While neural networks can be a great learning device they are often referred to as a black box. We can understand what the weights of a neural network look like better by plotting their feature maps. After successfully training your neural network you can see what it's feature maps look like by plotting the output of the network's weight layers in response to a test stimuli image. From these plotted feature maps, it's possible to see what characteristics of an image the network finds interesting. For a sign, maybe the inner network feature maps react with high activation to the sign's boundary outline or to the contrast in the sign's painted symbol.\n",
    "\n",
    " Provided for you below is the function code that allows you to get the visualization output of any tensorflow weight layer you want. The inputs to the function should be a stimuli image, one used during training or a new one you provided, and then the tensorflow variable name that represents the layer's state during the training process, for instance if you wanted to see what the [LeNet lab's](https://classroom.udacity.com/nanodegrees/nd013/parts/fbf77062-5703-404e-b60c-95b78b2f3f9e/modules/6df7ae49-c61c-4bb2-a23e-6527e69209ec/lessons/601ae704-1035-4287-8b11-e2c2716217ad/concepts/d4aca031-508f-4e0b-b493-e7b706120f81) feature maps looked like for it's second convolutional layer you could enter conv2 as the tf_activation variable.\n",
    "\n",
    "For an example of what feature map outputs look like, check out NVIDIA's results in their paper [End-to-End Deep Learning for Self-Driving Cars](https://devblogs.nvidia.com/parallelforall/deep-learning-self-driving-cars/) in the section Visualization of internal CNN State. NVIDIA was able to show that their network's inner weights had high activations to road boundary lines by comparing feature maps from an image with a clear path to one without. Try experimenting with a similar test to show that your trained network's weights are looking for interesting features, whether it's looking at differences in feature maps from images with or without a sign, or even what feature maps look like in a trained network vs a completely untrained one on the same sign image.\n",
    "\n",
    "<figure>\n",
    " <img src=\"visualize_cnn.png\" width=\"380\" alt=\"Combined Image\" />\n",
    " <figcaption>\n",
    " <p></p> \n",
    " <p style=\"text-align: center;\"> Your output should look something like this (above)</p> \n",
    " </figcaption>\n",
    "</figure>\n",
    " <p></p> \n"
   ]
  },
  {
   "cell_type": "code",
   "execution_count": null,
   "metadata": {
    "collapsed": true
   },
   "outputs": [],
   "source": [
    "### Visualize your network's feature maps here.\n",
    "### Feel free to use as many code cells as needed.\n",
    "\n",
    "# image_input: the test image being fed into the network to produce the feature maps\n",
    "# tf_activation: should be a tf variable name used during your training procedure that represents the calculated state of a specific weight layer\n",
    "# activation_min/max: can be used to view the activation contrast in more detail, by default matplot sets min and max to the actual min and max values of the output\n",
    "# plt_num: used to plot out multiple different weight feature map sets on the same block, just extend the plt number for each new feature map entry\n",
    "\n",
    "def outputFeatureMap(image_input, tf_activation, activation_min=-1, activation_max=-1 ,plt_num=1):\n",
    "    # Here make sure to preprocess your image_input in a way your network expects\n",
    "    # with size, normalization, ect if needed\n",
    "    # image_input =\n",
    "    # Note: x should be the same name as your network's tensorflow data placeholder variable\n",
    "    # If you get an error tf_activation is not defined it maybe having trouble accessing the variable from inside a function\n",
    "    activation = tf_activation.eval(session=sess,feed_dict={x : image_input})\n",
    "    featuremaps = activation.shape[3]\n",
    "    plt.figure(plt_num, figsize=(15,15))\n",
    "    for featuremap in range(featuremaps):\n",
    "        plt.subplot(6,8, featuremap+1) # sets the number of feature maps to show on each row and column\n",
    "        plt.title('FeatureMap ' + str(featuremap)) # displays the feature map number\n",
    "        if activation_min != -1 & activation_max != -1:\n",
    "            plt.imshow(activation[0,:,:, featuremap], interpolation=\"nearest\", vmin =activation_min, vmax=activation_max, cmap=\"gray\")\n",
    "        elif activation_max != -1:\n",
    "            plt.imshow(activation[0,:,:, featuremap], interpolation=\"nearest\", vmax=activation_max, cmap=\"gray\")\n",
    "        elif activation_min !=-1:\n",
    "            plt.imshow(activation[0,:,:, featuremap], interpolation=\"nearest\", vmin=activation_min, cmap=\"gray\")\n",
    "        else:\n",
    "            plt.imshow(activation[0,:,:, featuremap], interpolation=\"nearest\", cmap=\"gray\")"
   ]
  },
  {
   "cell_type": "markdown",
   "metadata": {},
   "source": [
    "### Question 9\n",
    "\n",
    "Discuss how you used the visual output of your trained network's feature maps to show that it had learned to look for interesting characteristics in traffic sign images\n"
   ]
  },
  {
   "cell_type": "markdown",
   "metadata": {},
   "source": [
    "**Answer:**"
   ]
  },
  {
   "cell_type": "markdown",
   "metadata": {},
   "source": [
    "> **Note**: Once you have completed all of the code implementations and successfully answered each question above, you may finalize your work by exporting the iPython Notebook as an HTML document. You can do this by using the menu above and navigating to  \\n\",\n",
    "    \"**File -> Download as -> HTML (.html)**. Include the finished document along with this notebook as your submission."
   ]
  },
  {
   "cell_type": "markdown",
   "metadata": {},
   "source": [
    "### Project Writeup\n",
    "\n",
    "Once you have completed the code implementation, document your results in a project writeup using this [template](https://github.com/udacity/CarND-Traffic-Sign-Classifier-Project/blob/master/writeup_template.md) as a guide. The writeup can be in a markdown or pdf file. "
   ]
  }
 ],
 "metadata": {
  "anaconda-cloud": {},
  "kernelspec": {
   "display_name": "Python [default]",
   "language": "python",
   "name": "python3"
  },
  "language_info": {
   "codemirror_mode": {
    "name": "ipython",
    "version": 3
   },
   "file_extension": ".py",
   "mimetype": "text/x-python",
   "name": "python",
   "nbconvert_exporter": "python",
   "pygments_lexer": "ipython3",
   "version": "3.5.2"
  }
 },
 "nbformat": 4,
 "nbformat_minor": 1
}
